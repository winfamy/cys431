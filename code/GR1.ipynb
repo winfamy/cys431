{
 "cells": [
  {
   "cell_type": "markdown",
   "metadata": {},
   "source": [
    "## Modular Exponentiation"
   ]
  },
  {
   "cell_type": "code",
   "execution_count": 9,
   "metadata": {},
   "outputs": [
    {
     "name": "stdout",
     "output_type": "stream",
     "text": [
      "3^(576) ≡ ? (mod 10000)\n",
      "3 ^ 1 ≡ 3 (mod 10000)\n",
      "3 ^ 2 ≡ 9 (mod 10000)\n",
      "3 ^ 4 ≡ 81 (mod 10000)\n",
      "3 ^ 8 ≡ 6561 (mod 10000)\n",
      "3 ^ 16 ≡ 6721 (mod 10000)\n",
      "3 ^ 32 ≡ 1841 (mod 10000)\n",
      "3 ^ 64 ≡ 9281 (mod 10000)\n",
      "3 ^ 128 ≡ 6961 (mod 10000)\n",
      "3 ^ 256 ≡ 5521 (mod 10000)\n",
      "3 ^ 512 ≡ 1441 (mod 10000)\n",
      "64 + 512 = 576\n",
      "9281 * 1441 = 3921 (mod 10000)\n"
     ]
    }
   ],
   "source": [
    "import math\n",
    "\n",
    "# base = int(input())\n",
    "# exp = int(input())\n",
    "# mod = int(input())\n",
    "\n",
    "base = 3\n",
    "exp = 576\n",
    "mod = 10000\n",
    "\n",
    "print(f\"{base}^({exp}) ≡ ? (mod {mod})\")\n",
    "\n",
    "values = []\n",
    "for i in range(0, math.ceil(math.log2(exp))):\n",
    "    current_exp = 2**(i)\n",
    "    value = base ** current_exp % mod\n",
    "    values.append([current_exp, value])\n",
    "    print(f\"{base} ^ {current_exp} ≡ {value} (mod {mod})\")\n",
    "\n",
    "mask = bin((exp))[2:][::-1]\n",
    "answer = 1\n",
    "used_exps = []\n",
    "used_values = []\n",
    "for i in range(0, len(mask)):\n",
    "    if (mask[i] == '1'):\n",
    "        used_exps.append(str(values[i][0]))\n",
    "        used_values.append(str(values[i][1]))\n",
    "        answer *= values[i][1]\n",
    "\n",
    "print(\" + \".join(used_exps), f\"= {exp}\")\n",
    "print(\" * \".join(used_values), f\"= {answer % mod} (mod {mod})\")\n"
   ]
  },
  {
   "cell_type": "code",
   "execution_count": 8,
   "metadata": {},
   "outputs": [
    {
     "name": "stdout",
     "output_type": "stream",
     "text": [
      "Factors of 10000: [2, 4, 5, 8, 10, 16, 20, 25, 40, 50, 80, 100, 125, 200, 250, 400, 500, 625, 1000, 1250, 2000, 2500, 5000]\n",
      "Integers <10000 co-prime with 10000: 4000\n"
     ]
    }
   ],
   "source": [
    "# euler's totient function\n",
    "from sympy import isprime\n",
    "\n",
    "num = 10000\n",
    "factors = []\n",
    "answer = num\n",
    "for i in range(1, num):\n",
    "    if (num % i == 0 and \n",
    "    i != 1 and \n",
    "    i != num):\n",
    "        factors.append(i)\n",
    "    \n",
    "print(f\"Factors of {num}: {factors}\")\n",
    "for factor in factors:\n",
    "    if(isprime(factor)):\n",
    "        answer *= (1 - (1/factor))\n",
    "print(f\"Integers <{num} co-prime with {num}: {answer:.0f}\")\n"
   ]
  },
  {
   "cell_type": "code",
   "execution_count": 1,
   "metadata": {},
   "outputs": [
    {
     "name": "stdout",
     "output_type": "stream",
     "text": [
      "can apply 3 mod 4\n",
      "+-x = a^(mod+1)/4\n",
      "3\n"
     ]
    }
   ],
   "source": [
    "num = 1\n",
    "mod = 31\n",
    "if(mod % 4 == 3):\n",
    "    print('can apply 3 mod 4')\n",
    "    print('+-x = a^(mod+1)/4')\n",
    "print(mod % 4)"
   ]
  },
  {
   "cell_type": "code",
   "execution_count": 17,
   "metadata": {},
   "outputs": [
    {
     "name": "stdout",
     "output_type": "stream",
     "text": [
      "2\n"
     ]
    }
   ],
   "source": [
    "# applying eurler's theorem\n",
    "from math import gcd as bltin_gcd\n",
    "from sympy import totient\n",
    "def coprime2(a, b):\n",
    "    return bltin_gcd(a, b) == 1\n",
    "\n",
    "base = 3\n",
    "exp = 12000002\n",
    "mod = 10000\n",
    "\n",
    "if (not coprime2(base, mod)):\n",
    "    print(\"Cannot apply Euler's Theorem\")\n",
    "else:\n",
    "    exp_mod = totient(mod)\n",
    "    new_exp = exp % exp_mod\n",
    "    print(new_exp)"
   ]
  }
 ],
 "metadata": {
  "interpreter": {
   "hash": "b065976b1fe5a0d3f5afa3714151801e8d07aa6b189477130012acbbd9217080"
  },
  "kernelspec": {
   "display_name": "Python 3.9.5 64-bit ('base': conda)",
   "language": "python",
   "name": "python3"
  },
  "language_info": {
   "codemirror_mode": {
    "name": "ipython",
    "version": 3
   },
   "file_extension": ".py",
   "mimetype": "text/x-python",
   "name": "python",
   "nbconvert_exporter": "python",
   "pygments_lexer": "ipython3",
   "version": "3.9.5"
  },
  "orig_nbformat": 4
 },
 "nbformat": 4,
 "nbformat_minor": 2
}
