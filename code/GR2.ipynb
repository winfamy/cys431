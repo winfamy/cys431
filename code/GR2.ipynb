{
 "cells": [
  {
   "cell_type": "code",
   "execution_count": 12,
   "metadata": {},
   "outputs": [
    {
     "name": "stdout",
     "output_type": "stream",
     "text": [
      "[1, 2, 3, 4, 5, 6, 7, 8, 9, 10, 11, 12, 13, 14, 15, 16, 17, 18, 19, 20, 21, 22]\n",
      "Not primitive root: 1 repeated, 9**11, 9**0\n",
      "9**0 = 1\n",
      "9**1 = 9\n",
      "9**2 = 12\n",
      "9**3 = 16\n",
      "9**4 = 6\n",
      "9**5 = 8\n",
      "9**6 = 3\n",
      "9**7 = 4\n",
      "9**8 = 13\n",
      "9**9 = 2\n",
      "9**10 = 18\n"
     ]
    }
   ],
   "source": [
    "# primitive root test\n",
    "n = 9\n",
    "mod = 23\n",
    "\n",
    "def primitive_root_test(n, mod):\n",
    "    out_ints = {}\n",
    "    ints = list(range(1, mod))\n",
    "\n",
    "    i = 0\n",
    "    while True:\n",
    "        out = pow(n, i, mod)\n",
    "        if out in out_ints:\n",
    "            print(f\"Not primitive root: {out} repeated, {n}**{i}, {n}**{out_ints[out]}\")\n",
    "            for oint in out_ints:\n",
    "                print(f\"{n}**{out_ints[oint]} = {oint}\")\n",
    "            return\n",
    "\n",
    "        ints.pop(ints.index(out))\n",
    "        if len(ints) == 0:\n",
    "            print(f\"Primitive root\")\n",
    "            break\n",
    "\n",
    "        out_ints[out] = i\n",
    "        i += 1\n",
    "\n",
    "primitive_root_test(n, mod)\n",
    "    \n",
    "\n"
   ]
  },
  {
   "cell_type": "code",
   "execution_count": 21,
   "metadata": {},
   "outputs": [
    {
     "name": "stdout",
     "output_type": "stream",
     "text": [
      "9**(100002019 mod Φ(1000))\n",
      "1000 = 2**x * 5**x * \n",
      "100002019 mod 400 = 19\n",
      "9**19 = 89\n"
     ]
    }
   ],
   "source": [
    "import sympy\n",
    "n = 9\n",
    "exponent = 100002019\n",
    "last_digits = 3\n",
    "\n",
    "mod = 10**last_digits\n",
    "print(f\"{n}**({exponent} mod Φ({mod}))\")\n",
    "mod_factors = sympy.primefactors(mod)\n",
    "totient = mod\n",
    "print(f\"{mod} = \", end='')\n",
    "for f in mod_factors:\n",
    "    totient *= (1 - 1/f)\n",
    "    totient = int(totient)\n",
    "    print(f\"{f}**x * \", end='')\n",
    "\n",
    "print()\n",
    "print(f\"{exponent} mod {totient} = {exponent % totient}\")\n",
    "print(f\"{n}**{exponent % totient} = {pow(n, exponent, mod)}\")"
   ]
  },
  {
   "cell_type": "code",
   "execution_count": 55,
   "metadata": {},
   "outputs": [
    {
     "name": "stdout",
     "output_type": "stream",
     "text": [
      "n-1 = 688 = 2**4*43\n",
      "b_0 = 657 mod 689\n",
      "b_1 = b_0**2 = 335 mod 689\n",
      "b_2 = b_1**2 = 607 mod 689\n",
      "b_3 = b_2**2 = 523 mod 689\n",
      "n probably not prime, b_k-1 != -1\n"
     ]
    }
   ],
   "source": [
    "# miller-rabin\n",
    "import math\n",
    "\n",
    "n = 689\n",
    "a = 19\n",
    "\n",
    "def miller_rabin_test(n, a):\n",
    "    nminus1 = n - 1\n",
    "    for k in range(1, math.floor(math.log2(nminus1))):\n",
    "        m = nminus1 // pow(2, k)\n",
    "        if (m % 2 != 0):\n",
    "            break\n",
    "\n",
    "    print(f\"n-1 = {nminus1} = 2**{k}*{m}\")\n",
    "\n",
    "    b_0 = pow(a, m, n)\n",
    "    print(f\"b_0 = {pow(a, m, n)} mod {n}\")\n",
    "    if (b_0 == -1 or b_0 == 1):\n",
    "        return print(f\"n is probably prime\")\n",
    "\n",
    "    b_x = pow(b_0, 2, n)\n",
    "    for i in range(1, k):\n",
    "        print(f\"b_{i} = b_{i-1}**2 = {b_x} mod {n}\")\n",
    "        b_x = pow(b_x, 2, n)\n",
    "        if (b_x == nminus1):\n",
    "            return print(f\"n is probably prime, b_{i} = -1 mod {n}\")\n",
    "    \n",
    "    print(\"n probably not prime, b_k-1 != -1\")\n",
    "\n",
    "miller_rabin_test(n, a)"
   ]
  },
  {
   "cell_type": "code",
   "execution_count": 79,
   "metadata": {},
   "outputs": [
    {
     "name": "stdout",
     "output_type": "stream",
     "text": [
      "List 1: \n",
      "7**0 mod 13 = 1\n",
      "7**1 mod 13 = 7\n",
      "7**2 mod 13 = 10\n",
      "7**3 mod 13 = 5\n",
      "7**4 mod 13 = 9\n",
      "\n",
      "List 2: \n",
      "2(7^-4)^0 mod 13 = 2(3)^0 mod 13 = 2\n",
      "2(7^-4)^1 mod 13 = 2(3)^1 mod 13 = 6\n",
      "2(7^-4)^2 mod 13 = 2(3)^2 mod 13 = 5\n",
      "i = 2, j = 3, m = 4\n",
      "x = im + j = 2*4 + 3 = 11\n",
      "check 2 = 7^11 mod 13\n",
      "7^11 mod 13 = 2\n"
     ]
    }
   ],
   "source": [
    "# baby-step, giant-step\n",
    "import math\n",
    "n = 2\n",
    "base = 7\n",
    "mod = 13\n",
    "\n",
    "# bsgs(n, base, mod)\n",
    "def bsgs(n, base, mod):\n",
    "    m = math.ceil(math.sqrt(mod))\n",
    "    Q = n\n",
    "    list1 = [base**j % mod for j in list(range(0, m+1))]\n",
    "\n",
    "    print(\"List 1: \")\n",
    "    for i in range(0, len(list1)):\n",
    "        print(f\"{base}**{i} mod {mod} = {list1[i]}\")\n",
    "\n",
    "    print(\"\\nList 2: \")\n",
    "    for i in range(0, m-1):\n",
    "        x = (Q * pow(base, -m, mod) ** i) % mod\n",
    "        print(f\"{Q}({base}^{-m})^{i} mod {mod} = {Q}({pow(base, -m, mod)})^{i} mod {mod} = {x}\")\n",
    "        if x in list1:\n",
    "            j = list1.index(x)\n",
    "            print(f\"\\ni = {i}, j = {j}, m = {m}\")\n",
    "            print(f\"x = im + j = {i}*{m} + {j} = {i*m+j}\")\n",
    "            x = i*m + j\n",
    "            break\n",
    "    \n",
    "    print(f\"check 2 = {base}^{x} mod {mod}\")\n",
    "    print(f\"{base}^{x} mod {mod} = {pow(base, x, mod)}\")\n",
    "\n",
    "bsgs(n, base, mod)"
   ]
  }
 ],
 "metadata": {
  "interpreter": {
   "hash": "d733f837fa070dad47c9f01ee27a369cc358c78c7dbbb72adcc63cc1dc945c82"
  },
  "kernelspec": {
   "display_name": "Python 3.9.5 ('base')",
   "name": "python3"
  },
  "language_info": {
   "codemirror_mode": {
    "name": "ipython",
    "version": 3
   },
   "file_extension": ".py",
   "mimetype": "text/x-python",
   "name": "python",
   "nbconvert_exporter": "python",
   "pygments_lexer": "ipython3",
   "version": "3.9.5"
  },
  "orig_nbformat": 4
 },
 "nbformat": 4,
 "nbformat_minor": 2
}
